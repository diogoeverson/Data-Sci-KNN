{
 "cells": [
  {
   "cell_type": "code",
   "execution_count": 3,
   "metadata": {},
   "outputs": [],
   "source": [
    "# Carrega os pacotes\n",
    "import pandas as pd\n",
    "import numpy as np\n",
    "from sklearn.metrics import confusion_matrix\n",
    "from sklearn.model_selection import train_test_split\n",
    "from sklearn.neighbors import KNeighborsClassifier\n",
    "from sklearn.metrics import classification_report"
   ]
  },
  {
   "cell_type": "code",
   "execution_count": 4,
   "metadata": {},
   "outputs": [],
   "source": [
    "df = pd.read_csv('automobile_data.csv')"
   ]
  },
  {
   "cell_type": "code",
   "execution_count": 5,
   "metadata": {},
   "outputs": [],
   "source": [
    "#movendo a variável target para a extrema direita do dataset\n",
    "column_names = ['symboling', 'normalized-losses', 'make', 'fuel-type',\n",
    "       'num-of-doors', 'body-style', 'drive-wheels', 'engine-location',\n",
    "       'wheel-base', 'length', 'width', 'height', 'curb-weight', 'engine-type',\n",
    "       'num-of-cylinders', 'engine-size', 'fuel-system', 'bore', 'stroke',\n",
    "       'compression-ratio', 'horsepower', 'peak-rpm', 'city-mpg',\n",
    "       'highway-mpg', 'price', 'aspiration']\n",
    "\n",
    "df = df.reindex(columns=column_names)"
   ]
  },
  {
   "cell_type": "code",
   "execution_count": 6,
   "metadata": {},
   "outputs": [],
   "source": [
    "#separando variáveis preditoras da target\n",
    "X = df.iloc[:,:-1]\n",
    "y = df['aspiration'].values"
   ]
  },
  {
   "cell_type": "code",
   "execution_count": 7,
   "metadata": {},
   "outputs": [],
   "source": [
    "#loop que percorre lista de colunas categóricas que terão valores por categoria convertidas em número \n",
    "X = X.astype(str)\n",
    "novo_valor_numerico = 0\n",
    "i = 0\n",
    "for x in X.columns:\n",
    "    for z in X[x].drop_duplicates():        \n",
    "        X[x].replace({z: str(i)}, inplace=True)\n",
    "        i+=1\n",
    "    i = 0\n",
    "X = X.astype(int)"
   ]
  },
  {
   "cell_type": "code",
   "execution_count": 13,
   "metadata": {},
   "outputs": [],
   "source": [
    "# Divisão em dados de treino e de teste\n",
    "X_treino, testeData, Y_treino, testeLabels = train_test_split(X, y, test_size = 0.30)"
   ]
  },
  {
   "cell_type": "code",
   "execution_count": 14,
   "metadata": {},
   "outputs": [],
   "source": [
    "# Divisão dos dados de treino em dados de treino e dados de validação\n",
    "treinoData, validData, treinoLabels, validLabels = train_test_split(X_treino, \n",
    "                                                                    Y_treino, \n",
    "                                                                    test_size = 0.1)"
   ]
  },
  {
   "cell_type": "code",
   "execution_count": 15,
   "metadata": {},
   "outputs": [],
   "source": [
    "# Range de valores de k que iremos testar\n",
    "kVals = range(1, 30, 2)"
   ]
  },
  {
   "cell_type": "code",
   "execution_count": 16,
   "metadata": {},
   "outputs": [],
   "source": [
    "# Lista vazia para receber as acurácias\n",
    "acuracias = []"
   ]
  },
  {
   "cell_type": "code",
   "execution_count": 17,
   "metadata": {},
   "outputs": [
    {
     "name": "stdout",
     "output_type": "stream",
     "text": [
      "Com valor de k = 1, a acurácia é = 100.00%\n",
      "Com valor de k = 3, a acurácia é = 100.00%\n",
      "Com valor de k = 5, a acurácia é = 100.00%\n",
      "Com valor de k = 7, a acurácia é = 100.00%\n",
      "Com valor de k = 9, a acurácia é = 100.00%\n",
      "Com valor de k = 11, a acurácia é = 86.67%\n",
      "Com valor de k = 13, a acurácia é = 93.33%\n",
      "Com valor de k = 15, a acurácia é = 93.33%\n",
      "Com valor de k = 17, a acurácia é = 93.33%\n",
      "Com valor de k = 19, a acurácia é = 93.33%\n",
      "Com valor de k = 21, a acurácia é = 93.33%\n",
      "Com valor de k = 23, a acurácia é = 93.33%\n",
      "Com valor de k = 25, a acurácia é = 93.33%\n",
      "Com valor de k = 27, a acurácia é = 93.33%\n",
      "Com valor de k = 29, a acurácia é = 93.33%\n"
     ]
    }
   ],
   "source": [
    "# Loop em todos os valores de k para testar cada um deles\n",
    "for k in kVals:\n",
    "    \n",
    "    # Treinando o modelo KNN com cada valor de k\n",
    "    modeloKNN = KNeighborsClassifier(n_neighbors = k)\n",
    "    modeloKNN.fit(treinoData, treinoLabels)\n",
    "          \n",
    "    # Avaliando o modelo e atualizando a lista de acurácias\n",
    "    score = modeloKNN.score(validData, validLabels)\n",
    "    print(\"Com valor de k = %d, a acurácia é = %.2f%%\" % (k, score * 100))\n",
    "    acuracias.append(score)"
   ]
  },
  {
   "cell_type": "code",
   "execution_count": 19,
   "metadata": {},
   "outputs": [],
   "source": [
    "# Criando a versão final do modelo com o maior valor de k\n",
    "i = np.argmax(acuracias)\n",
    "modeloFinal = KNeighborsClassifier(n_neighbors = kVals[1])"
   ]
  },
  {
   "cell_type": "code",
   "execution_count": 20,
   "metadata": {},
   "outputs": [
    {
     "data": {
      "text/plain": [
       "KNeighborsClassifier(algorithm='auto', leaf_size=30, metric='minkowski',\n",
       "                     metric_params=None, n_jobs=None, n_neighbors=3, p=2,\n",
       "                     weights='uniform')"
      ]
     },
     "execution_count": 20,
     "metadata": {},
     "output_type": "execute_result"
    }
   ],
   "source": [
    "# Treinamento do modelo\n",
    "modeloFinal.fit(treinoData, treinoLabels)"
   ]
  },
  {
   "cell_type": "code",
   "execution_count": 21,
   "metadata": {},
   "outputs": [],
   "source": [
    "# Previsões com os dados de teste\n",
    "predictions = modeloFinal.predict(testeData)"
   ]
  },
  {
   "cell_type": "code",
   "execution_count": 22,
   "metadata": {},
   "outputs": [
    {
     "name": "stdout",
     "output_type": "stream",
     "text": [
      "Avaliação do Modelo nos Dados de Teste\n",
      "              precision    recall  f1-score   support\n",
      "\n",
      "         std       0.93      0.98      0.96        56\n",
      "       turbo       0.67      0.33      0.44         6\n",
      "\n",
      "    accuracy                           0.92        62\n",
      "   macro avg       0.80      0.66      0.70        62\n",
      "weighted avg       0.91      0.92      0.91        62\n",
      "\n"
     ]
    }
   ],
   "source": [
    "# Performande do modelo nos dados de teste\n",
    "print(\"Avaliação do Modelo nos Dados de Teste\")\n",
    "print(classification_report(testeLabels, predictions))"
   ]
  },
  {
   "cell_type": "code",
   "execution_count": 23,
   "metadata": {},
   "outputs": [
    {
     "name": "stdout",
     "output_type": "stream",
     "text": [
      "Confusion matrix\n",
      "[[55  1]\n",
      " [ 4  2]]\n"
     ]
    }
   ],
   "source": [
    "# Confusion Matrix do Modelo Final\n",
    "print (\"Confusion matrix\")\n",
    "print(confusion_matrix(testeLabels, predictions))"
   ]
  },
  {
   "cell_type": "code",
   "execution_count": null,
   "metadata": {},
   "outputs": [],
   "source": []
  }
 ],
 "metadata": {
  "kernelspec": {
   "display_name": "Python 3",
   "language": "python",
   "name": "python3"
  },
  "language_info": {
   "codemirror_mode": {
    "name": "ipython",
    "version": 3
   },
   "file_extension": ".py",
   "mimetype": "text/x-python",
   "name": "python",
   "nbconvert_exporter": "python",
   "pygments_lexer": "ipython3",
   "version": "3.6.5"
  }
 },
 "nbformat": 4,
 "nbformat_minor": 4
}
